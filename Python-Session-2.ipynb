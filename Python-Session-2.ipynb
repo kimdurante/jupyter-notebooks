{
 "cells": [
  {
   "cell_type": "markdown",
   "id": "6ce1b767",
   "metadata": {},
   "source": [
    "## Introduction to Python - Session 2\n",
    "\n",
    "### Topics for Today\n",
    "\n",
    "**- Review**\n",
    "\n",
    "**- Importing libraries**\n",
    "\n",
    "**- Analyzing and Visualizing data**\n",
    "\n",
    "**- Creating functions**\n",
    "\n",
    "**- Errors**\n",
    "\n",
    "Download this Jupyter Notebook: \n",
    "\n",
    "Download workshop data: https://swcarpentry.github.io/python-novice-inflammation/data/python-novice-inflammation-data.zip. Unzip the file and open a new Jupyter Notebook in the same directory as the data folder.\n",
    "\n",
    "Workshop Documentation: https://swcarpentry.github.io/python-novice-inflammation/aio.html\n",
    "\n",
    "For questions or more information, please contact: kdurante@stanford.edu"
   ]
  },
  {
   "cell_type": "markdown",
   "id": "4b504203",
   "metadata": {
    "deletable": false,
    "editable": false,
    "scrolled": true
   },
   "source": [
    "## Review\n",
    "\n",
    "### Lists\n",
    "\n",
    "Create a variable called **odds** and populate it with odd numbers from 1-9.\n",
    "\n",
    "```odds = [1,3,5,7,9]```"
   ]
  },
  {
   "cell_type": "code",
   "execution_count": null,
   "id": "e702bf04",
   "metadata": {},
   "outputs": [],
   "source": []
  },
  {
   "cell_type": "markdown",
   "id": "b7fa33ae",
   "metadata": {
    "deletable": false,
    "editable": false,
    "scrolled": true
   },
   "source": [
    "### Indexing\n",
    "\n",
    "Get the first item from the list</br>\n",
    "\n",
    "```odds[0]```\n",
    "\n",
    "Get the last item from the list</br>\n",
    "\n",
    "```odds[-1]```"
   ]
  },
  {
   "cell_type": "code",
   "execution_count": null,
   "id": "d3ad19da",
   "metadata": {},
   "outputs": [],
   "source": []
  },
  {
   "cell_type": "markdown",
   "id": "8fa8c58e",
   "metadata": {
    "deletable": false,
    "editable": false,
    "scrolled": true
   },
   "source": [
    "### Slicing\n",
    "\n",
    "Slicing alows us to segement data using indicies.\n",
    "\n",
    "Get items 2-4 from the list:</br>\n",
    "\n",
    "```odds[1:4]``` Take item at index position 1 and take all entries up to (but not including) position 4. \n",
    "\n",
    "Get the first 3 items from the list:</br>\n",
    "\n",
    "```odds[0:3]``` Take item at index position 0 and take all entries up to (but not including) position 3.\n",
    "\n",
    "If the first index is empty, the slice starts at the beginning (0).\n",
    "\n",
    "```odds[:3]```\n",
    "\n",
    "If the last index is empty, the slice continues to the end (-1).\n",
    "\n",
    "```odds[2:]```"
   ]
  },
  {
   "cell_type": "code",
   "execution_count": null,
   "id": "241222ab",
   "metadata": {},
   "outputs": [],
   "source": []
  },
  {
   "cell_type": "markdown",
   "id": "c2aa4814",
   "metadata": {
    "deletable": false,
    "editable": false,
    "scrolled": true
   },
   "source": [
    "### For loops\n",
    "\n",
    "Loop over the list and print out an item entry on a new line.\n",
    "\n",
    "```for num in odds:```</br>\n",
    "```    print (num)```"
   ]
  },
  {
   "cell_type": "code",
   "execution_count": null,
   "id": "0b9dae09",
   "metadata": {},
   "outputs": [],
   "source": []
  },
  {
   "cell_type": "markdown",
   "id": "f533b066",
   "metadata": {
    "deletable": false,
    "editable": false,
    "scrolled": true
   },
   "source": [
    "### If/Elif/Else\n",
    "\n",
    "```for num in odds:```</br>\n",
    "```    if num == 1:```</br>\n",
    "```        print (num,  ' is 1')```</br>\n",
    "```    elif num < 9:```</br>\n",
    "```        print (num, ' is less than 9')```</br>\n",
    "```    else:```</br>\n",
    "```        print (num, ' is 9')```</br>"
   ]
  },
  {
   "cell_type": "code",
   "execution_count": null,
   "id": "5c40366a",
   "metadata": {},
   "outputs": [],
   "source": []
  },
  {
   "cell_type": "markdown",
   "id": "2facebe7",
   "metadata": {
    "deletable": false,
    "editable": false,
    "scrolled": true
   },
   "source": [
    "### Exercises\n",
    "\n",
    "1. Create a list called **animals** and populate it with 4 items: dogs, cats, frogs, birds\n",
    "\n",
    "2. Use indexing to output frogs\n",
    "\n",
    "3. Use slicing to output only dogs and cats\n",
    "\n",
    "4. Create a loop to output each animal to a separate line."
   ]
  },
  {
   "cell_type": "code",
   "execution_count": null,
   "id": "dd1a24d2",
   "metadata": {},
   "outputs": [],
   "source": []
  },
  {
   "cell_type": "markdown",
   "id": "0fc269cd",
   "metadata": {
    "deletable": false,
    "editable": false,
    "scrolled": true
   },
   "source": [
    "## Python Libraries\n",
    "\n",
    "Python libraries are a set of useful functions that eliminate the need for writing code from scratch. They contain reusable functions or classes that can be called upon as needed.\n",
    "\n",
    "Libraries are invoked in Python using the **import** command. Let's get the current day and time using the time library.\n",
    "\n",
    "```import time```</br>\n",
    "```current_time = time.ctime()```</br>\n",
    "```current_time```\n",
    "\n",
    "Note that in **time.ctime**, **ctime** is a function of time which is called using dot notation. \n",
    "\n",
    "Lets get the time zone:\n",
    "\n",
    "```print(time.tzname)```</br>\n",
    "```tz = time.tzname```</br>\n",
    "```tz[0]```</br>"
   ]
  },
  {
   "cell_type": "code",
   "execution_count": null,
   "id": "02b58c0b",
   "metadata": {},
   "outputs": [],
   "source": []
  },
  {
   "cell_type": "markdown",
   "id": "d1196ddd",
   "metadata": {
    "deletable": false,
    "editable": false,
    "scrolled": true
   },
   "source": [
    "Next, we'll look at analyzing, inspecting, and plotting data using [NumPy](https://numpy.org/doc/stable/index.html) and [Matplotlib](https://matplotlib.org/) libraries. \n",
    "\n",
    "NumPy - Numerical Python is a library used for working with arrays.\n",
    "\n",
    "Matpoltlib -Matplotlib is a comprehensive Python library for creating static, animated, and interactive visualizations.\n",
    "\n",
    "NumPy and Matplotlib are commonly imported using the shortcuts shown below:\n",
    "\n",
    "```import numpy as np```</br>\n",
    "```import matplotlib.pyplot as plt```"
   ]
  },
  {
   "cell_type": "code",
   "execution_count": null,
   "id": "c4b13e88",
   "metadata": {},
   "outputs": [],
   "source": []
  },
  {
   "cell_type": "markdown",
   "id": "a4b65a79",
   "metadata": {
    "deletable": false,
    "editable": false,
    "scrolled": true
   },
   "source": [
    "### Loading data with NumPy (Arrays)\n",
    "\n",
    "An array is a central data structure of the NumPy library. An array is a grid of values and it contains information about the raw data, how to locate an element, and how to interpret an element.\n",
    "\n",
    "Let's look at some data from our sample datasets. There are 12 CSV files all beginning with 'inflammation' which contain data from clinical trials conducted on 60 patients over a 40-day period.\n",
    "\n",
    "Create a NumPy array from a CSV file using the **loadtxt** function. This function can take several parameters, **fname** is required, we will also supply the parameter **delimiter** to specify that we are using a comma delimited file. If the first row of the CSV data contains headers, use the parameter **skiprows**.\n",
    "\n",
    "```np.loadtxt(fname='data/inflammation-01.csv', delimiter=',')```"
   ]
  },
  {
   "cell_type": "code",
   "execution_count": null,
   "id": "0433d409",
   "metadata": {},
   "outputs": [],
   "source": []
  },
  {
   "cell_type": "markdown",
   "id": "98be3945",
   "metadata": {
    "deletable": false,
    "editable": false,
    "scrolled": true
   },
   "source": [
    "Create a variable called **data** to store the array"
   ]
  },
  {
   "cell_type": "code",
   "execution_count": null,
   "id": "4a3297e4",
   "metadata": {},
   "outputs": [],
   "source": []
  },
  {
   "cell_type": "markdown",
   "id": "c8d6f878",
   "metadata": {
    "deletable": false,
    "editable": false,
    "scrolled": true
   },
   "source": [
    "### Inspecting and Analyzing Data\n",
    "\n",
    "```print(type(data))``` - Displays the object type\n",
    "\n",
    "```print (data.dtype)``` - Displays the data type\n",
    "\n",
    "```print(data.shape)``` - Displays the extent of the array in rows and columns"
   ]
  },
  {
   "cell_type": "code",
   "execution_count": null,
   "id": "5f57117a",
   "metadata": {},
   "outputs": [],
   "source": []
  },
  {
   "cell_type": "markdown",
   "id": "bfa6cf24",
   "metadata": {
    "deletable": false,
    "editable": false,
    "scrolled": true
   },
   "source": [
    "Selecting a single element in a 2-dimensional array by supplying the row and column:\n",
    "\n",
    "```data[30,20]``` Selects element at row 21, column 31\n",
    "\n",
    "Select a single row:\n",
    "\n",
    "``` data[4]``` Selects all of row 5\n",
    "\n",
    "Select a single column:\n",
    "\n",
    "```data[:, 2:3])``` Selects all of column 3"
   ]
  },
  {
   "cell_type": "code",
   "execution_count": null,
   "id": "f23432bc",
   "metadata": {},
   "outputs": [],
   "source": []
  },
  {
   "cell_type": "markdown",
   "id": "ef74a46d",
   "metadata": {
    "deletable": false,
    "editable": false,
    "scrolled": true
   },
   "source": [
    "Select the first value in the array\n",
    "\n",
    "```print ('first value:', data[0, 0])```\n",
    "\n",
    "Select the last value in the array\n",
    "\n",
    "```print ('last value:', data[59,39])```"
   ]
  },
  {
   "cell_type": "code",
   "execution_count": null,
   "id": "dc83bf1b",
   "metadata": {},
   "outputs": [],
   "source": []
  },
  {
   "cell_type": "markdown",
   "id": "fb429758",
   "metadata": {
    "deletable": false,
    "editable": false,
    "scrolled": true
   },
   "source": [
    "Compute the mean value\n",
    "\n",
    "np.mean(data)"
   ]
  },
  {
   "cell_type": "code",
   "execution_count": null,
   "id": "0f9ce2d3",
   "metadata": {},
   "outputs": [],
   "source": []
  },
  {
   "cell_type": "markdown",
   "id": "84a04f27",
   "metadata": {
    "deletable": false,
    "editable": false,
    "scrolled": true
   },
   "source": [
    "Find the maximum, minimum, and standard deviation values\n",
    "\n",
    "```maxval, minval, stdval = np.amax(data), np.amin(data), np.std(data)```\n",
    "\n",
    "```maxval, minval, stdval```\n",
    "\n"
   ]
  },
  {
   "cell_type": "code",
   "execution_count": null,
   "id": "1236188e",
   "metadata": {},
   "outputs": [],
   "source": []
  },
  {
   "cell_type": "markdown",
   "id": "a994dfa1",
   "metadata": {
    "deletable": false,
    "editable": false,
    "scrolled": true
   },
   "source": [
    "## Plotting Data\n",
    "\n",
    "Plotting with Matplotlib to visualize the data. \n",
    "\n",
    "Create an image from the data.\n",
    "\n",
    "```plt.imshow(data)```</br>\n",
    "```plt.show()```"
   ]
  },
  {
   "cell_type": "code",
   "execution_count": 613,
   "id": "b88d52a0",
   "metadata": {},
   "outputs": [],
   "source": [
    "#%matplotlib inline"
   ]
  },
  {
   "attachments": {
    "numpy-arrays-have-axes_updated_v2-2.png": {
     "image/png": "[encoded data removed]"
    }
   },
   "cell_type": "markdown",
   "id": "487520cc",
   "metadata": {
    "deletable": false,
    "editable": false,
    "scrolled": true
   },
   "source": [
    "**Note**: if an image does not display, you may need to run the command **%matplotlib inline** before executing the code.\n",
    "\n",
    "Each row in the heat map corresponds 1 of 60 patients in the clinical trial dataset, and each column corresponds to a day in the dataset. Blue pixels in this heat map represent low values, while yellow pixels represent high values. As we can see, the general number of inflammation flare-ups for the patients rises and falls over a 40-day period.\n",
    "\n",
    "\n",
    "In a 2-dimensional NumPy array, the axes are the directions along the rows and columns. Axis 0 runs vertically down the rows and axis 1 runs horizontally across the columns.\n",
    "\n",
    "![numpy-arrays-have-axes_updated_v2-2.png](attachment:numpy-arrays-have-axes_updated_v2-2.png)\n",
    "\n",
    "Plotting average inflammation over 40 days\n",
    "\n",
    "```ave_inflammation = np.mean(data, axis=0)```</br>\n",
    "```ave_plot = plt.plot(ave_inflammation)```</br>\n",
    "```plt.show()```"
   ]
  },
  {
   "cell_type": "code",
   "execution_count": null,
   "id": "586ff026",
   "metadata": {},
   "outputs": [],
   "source": []
  },
  {
   "cell_type": "markdown",
   "id": "5d7a9d2d",
   "metadata": {
    "deletable": false,
    "editable": false,
    "scrolled": true
   },
   "source": [
    "Plot maximum inflammation over time\n",
    "\n",
    "```max_plot = plt.plot(np.amax(data, axis=0))```</br>\n",
    "```plt.show()```"
   ]
  },
  {
   "cell_type": "code",
   "execution_count": null,
   "id": "404513fb",
   "metadata": {},
   "outputs": [],
   "source": []
  },
  {
   "cell_type": "markdown",
   "id": "91bc1a71",
   "metadata": {
    "deletable": false,
    "editable": false,
    "scrolled": true
   },
   "source": [
    "Plot minimum inflammation over time\n",
    "\n",
    "```min_plot = plt.plot(np.amin(data, axis=0))```</br>\n",
    "```plt.show()```"
   ]
  },
  {
   "cell_type": "code",
   "execution_count": null,
   "id": "076a82a2",
   "metadata": {},
   "outputs": [],
   "source": []
  },
  {
   "cell_type": "markdown",
   "id": "301b36bb",
   "metadata": {
    "deletable": false,
    "editable": false,
    "scrolled": true
   },
   "source": [
    "### Grouping Plots\n",
    "\n",
    "Grouping similar plots in a single figure using subplots. \n",
    "\n",
    "The Matplotlib **figure** function creates a space in which we can place all of our plots. The parameter **figsize** tells Python how big to make this space. Each subplot is placed into the figure using its **add_subplot** method. The **add_subplot** method takes 3 parameters. The first denotes how many total rows of subplots there are, the second parameter refers to the total number of subplot columns, and the final parameter denotes which subplot your variable is referencing (left-to-right, top-to-bottom). Each subplot is stored in a different variable (axes1, axes2, axes3). Once a subplot is created, the axes can be titled using the **set_xlabel()** command (or **set_ylabel()**). If we leave out that call to **fig.tight_layout()**, the graphs will actually be squeezed together more closely. **plt.savefig** will save an image of our figure.\n",
    "\n",
    "Here are our three plots side by side:\n",
    "\n",
    "```data = np.loadtxt(fname='data/inflammation-01.csv', delimiter=',')```</br>\n",
    "```fig = plt.figure(figsize=(10.0, 3.0))```\n",
    "\n",
    "```axes1 = fig.add_subplot(1, 3, 1)```</br>\n",
    "```axes2 = fig.add_subplot(1, 3, 2)```</br>\n",
    "```axes3 = fig.add_subplot(1, 3, 3)```</br>\n",
    "\n",
    "```axes1.set_ylabel('average')```</br>\n",
    "```axes1.plot(np.mean(data, axis=0))```\n",
    "\n",
    "```axes2.set_ylabel('max')```</br>\n",
    "```axes2.plot(np.amax(data, axis=0))```\n",
    "\n",
    "```axes3.set_ylabel('min')```</br>\n",
    "```axes3.plot(np.amin(data, axis=0))```\n",
    "\n",
    "```fig.tight_layout()```</br>\n",
    "```plt.savefig('data/inflammation.png')```</br>\n",
    "```plt.show()```"
   ]
  },
  {
   "cell_type": "code",
   "execution_count": null,
   "id": "c6abcd3b",
   "metadata": {},
   "outputs": [],
   "source": []
  },
  {
   "cell_type": "markdown",
   "id": "2cba795d",
   "metadata": {
    "deletable": false,
    "editable": false,
    "scrolled": true
   },
   "source": [
    "### Analyzing and Plotting Data from Multiple Files\n",
    "\n",
    "Performing the same action on multiple files.\n",
    "\n",
    "The **glob** library contains a function, also called glob, that finds files and directories whose names match a pattern. We provide those patterns as strings: the character * matches zero or more characters, while ? matches any one character. We can use this to get the names of all the CSV files in the current directory:\n",
    "\n",
    "```import glob```</br>\n",
    "```filenames = sorted(glob.glob('data/inflammation*.csv'))```</br>\n",
    "```filenames = filenames[0:3]```\n",
    "\n",
    "Use the **sorted** function to sort the files"
   ]
  },
  {
   "cell_type": "code",
   "execution_count": null,
   "id": "6b3df527",
   "metadata": {},
   "outputs": [],
   "source": []
  },
  {
   "cell_type": "markdown",
   "id": "2641f0cd",
   "metadata": {
    "deletable": false,
    "editable": false,
    "scrolled": true
   },
   "source": [
    "### Plotting Data from Multiple Files\n",
    "\n",
    "Now that we have a list of files to work with, let's plot the data using a for loop:\n",
    "\n",
    "```filenames = sorted(glob.glob('data/inflammation*.csv'))```</br>\n",
    "```filenames = filenames```</br>\n",
    "```for filename in filenames:```</br>\n",
    "    ```   print(filename)```\n",
    "    \n",
    "```   data = np.loadtxt(fname=filename, delimiter=',')```</br>\n",
    "```   fig = plt.figure(figsize=(10.0, 3.0))```</br>\n",
    "```   axes1 = fig.add_subplot(1, 3, 1)```</br>\n",
    "```   axes2 = fig.add_subplot(1, 3, 2)```</br>\n",
    "```   axes3 = fig.add_subplot(1, 3, 3)```</br>\n",
    "```   axes1.set_ylabel('mean')```</br>\n",
    "```   axes1.plot(np.mean(data, axis=0))```</br>\n",
    "```   axes2.set_ylabel('max')```</br>\n",
    "```   axes2.plot(np.amax(data, axis=0))```</br>\n",
    "```   axes3.set_ylabel('min')```</br>\n",
    "```   axes3.plot(np.amin(data, axis=0))```</br>\n",
    "```   fig.tight_layout()```</br>\n",
    "```   plt.show()```"
   ]
  },
  {
   "cell_type": "code",
   "execution_count": null,
   "id": "283efcf6",
   "metadata": {},
   "outputs": [],
   "source": []
  },
  {
   "cell_type": "markdown",
   "id": "ad504ed1",
   "metadata": {
    "deletable": false,
    "editable": false,
    "scrolled": true
   },
   "source": [
    "In the plot outputs above, notice some of the max and min values look somewhat peculiar. Some max values show a sharp increase and decrease, and some min values show a straight line. Let's look at how to design some code (in the form of functions) to highlight these inconsistencies.\n",
    "\n",
    "### Creating functions\n",
    "\n",
    "Functions are a way to package code so that it is easier to reuse, a shorthand way of re-executing longer pieces of code. Functions begin with ```def``` followed by an indented block of code which is performed on inputs.\n",
    "\n",
    "Let's create a function to print out filenames from our data directory:\n",
    "\n",
    "```filenames = sorted(glob.glob('data/inflammation*.csv'))```\n",
    "\n",
    "```def print_filenames(f):```</br>\n",
    "```    print (f)```\n",
    "    \n",
    "```for f in filenames:```</br>\n",
    "```    print_filenames(f)```"
   ]
  },
  {
   "cell_type": "code",
   "execution_count": null,
   "id": "2cd718e9",
   "metadata": {},
   "outputs": [],
   "source": []
  },
  {
   "cell_type": "markdown",
   "id": "111586e0",
   "metadata": {
    "deletable": false,
    "editable": false,
    "scrolled": true
   },
   "source": [
    "Create a function to loop through our **odds** list and add 1 to each number:\n",
    "\n",
    "```def add_numbers(i):```</br>\n",
    "```    i = i + 1```</br>\n",
    "```    print (i)```</br>\n",
    "\n",
    "```for i in odds:```</br>\n",
    "```    add_numbers(i)```"
   ]
  },
  {
   "cell_type": "code",
   "execution_count": null,
   "id": "cf657b9f",
   "metadata": {},
   "outputs": [],
   "source": []
  },
  {
   "cell_type": "markdown",
   "id": "7890f034",
   "metadata": {
    "deletable": false,
    "editable": false,
    "scrolled": true
   },
   "source": [
    "Create a function to plot the data\n",
    "\n",
    "```def visualize(filename):```\n",
    "\n",
    "```   data = np.loadtxt(fname=filename, delimiter=',')```</br>\n",
    "```   fig = plt.figure(figsize=(10.0, 3.0))```</br>\n",
    "```   axes1 = fig.add_subplot(1, 3, 1)```</br>\n",
    "```   axes2 = fig.add_subplot(1, 3, 2)```</br>\n",
    "```   axes3 = fig.add_subplot(1, 3, 3)```</br>\n",
    "```   axes1.set_ylabel('mean')```</br>\n",
    "```   axes1.plot(np.mean(data, axis=0))```</br>\n",
    "```   axes2.set_ylabel('max')```</br>\n",
    "```   axes2.plot(np.amax(data, axis=0))```</br>\n",
    "```   axes3.set_ylabel('min')```</br>\n",
    "```   axes3.plot(np.amin(data, axis=0))```</br>\n",
    "```   fig.tight_layout()```</br>\n",
    "```   plt.show()```"
   ]
  },
  {
   "cell_type": "code",
   "execution_count": null,
   "id": "71d2a64f",
   "metadata": {},
   "outputs": [],
   "source": []
  },
  {
   "cell_type": "markdown",
   "id": "ff255514",
   "metadata": {
    "deletable": false,
    "editable": false,
    "scrolled": true
   },
   "source": [
    "Create a function to detect problems\n",
    "\n",
    "```def detect_problems(filename):```</br>\n",
    "\n",
    "```    data = np.loadtxt(fname=filename, delimiter=',')```</br>\n",
    "\n",
    "```    if np.amax(data, axis=0)[0] == 0 and np.amax(data, axis=0)[20] == 20:```</br>\n",
    "```        print('Suspicious looking maxima!')```</br>\n",
    "```    elif np.sum(np.amin(data, axis=0)) == 0:```</br>\n",
    "```        print('Minima add up to zero!')```</br>\n",
    "```    else:```</br>\n",
    "```        print('Seems OK!')```"
   ]
  },
  {
   "cell_type": "code",
   "execution_count": null,
   "id": "2f2ab7f0",
   "metadata": {},
   "outputs": [],
   "source": []
  },
  {
   "cell_type": "markdown",
   "id": "f8d56e02",
   "metadata": {
    "deletable": false,
    "editable": false,
    "scrolled": true
   },
   "source": [
    "Loop over a list of filenames, plot values, and check for problems\n",
    "\n",
    "```filenames = sorted(glob.glob('data/inflammation*.csv'))```</br>\n",
    "\n",
    "```for filename in filenames[:3]:```</br>\n",
    "```    print(filename)```</br>\n",
    "```    visualize(filename)```</br>\n",
    "```    detect_problems(filename)```</br>\n",
    "```    print ('-----')```"
   ]
  },
  {
   "cell_type": "code",
   "execution_count": null,
   "id": "58d5621f",
   "metadata": {},
   "outputs": [],
   "source": []
  },
  {
   "cell_type": "markdown",
   "id": "cbe89404",
   "metadata": {
    "deletable": false,
    "editable": false,
    "scrolled": true
   },
   "source": [
    "## Working with Images\n",
    "\n",
    "\n",
    "The [Scikit-image](https://scikit-image.org/) library is a collection of algorithms for image processing. It contains utilities to read and write images in various formats.\n",
    "\n",
    "The [Requests](https://pypi.org/project/requests/) library allows you to work with HTTP requests quickly and easily.\n",
    "\n",
    "Let's grab an image from a specified url and open it with Matplotlib:\n",
    "\n",
    "\n",
    "\n",
    "```import requests```</br>\n",
    "```from skimage.io import imread```</br>\n",
    "\n",
    "```url = 'https://pubs.usgs.gov/mf/2002/2393/MonoBathy.jpg'```</br>\n",
    "```res = requests.get(url)```</br>\n",
    "```image = imread(url)```</br>\n",
    "```plt.imshow(image)```</br>"
   ]
  },
  {
   "cell_type": "code",
   "execution_count": null,
   "id": "47e09076",
   "metadata": {},
   "outputs": [],
   "source": []
  },
  {
   "cell_type": "markdown",
   "id": "fe6038df",
   "metadata": {
    "deletable": false,
    "editable": false,
    "scrolled": true
   },
   "source": [
    "Let's look at the type of data\n",
    "\n",
    "```type(image)```\n",
    "\n",
    "Look at the array\n",
    "\n",
    "```image```"
   ]
  },
  {
   "cell_type": "code",
   "execution_count": null,
   "id": "72397ed4",
   "metadata": {},
   "outputs": [],
   "source": []
  },
  {
   "cell_type": "markdown",
   "id": "c4ad6c24",
   "metadata": {
    "deletable": false,
    "editable": false,
    "scrolled": true
   },
   "source": [
    "Let's examine a part of the image using slicing\n",
    "\n",
    "```plt.imshow(image[0:200,0:-200])```"
   ]
  },
  {
   "cell_type": "code",
   "execution_count": null,
   "id": "9aee9dc0",
   "metadata": {},
   "outputs": [],
   "source": []
  },
  {
   "cell_type": "markdown",
   "id": "e2185de1",
   "metadata": {
    "deletable": false,
    "editable": false,
    "scrolled": true
   },
   "source": [
    "To disable axes and save the image:\n",
    "\n",
    "```plt.imshow(image[0:200,0:-200])```</br>\n",
    "```plt.axis('off')```</br>\n",
    "```plt.savefig('data/mono_slice.png')```"
   ]
  },
  {
   "cell_type": "code",
   "execution_count": null,
   "id": "b94cb948",
   "metadata": {},
   "outputs": [],
   "source": []
  },
  {
   "cell_type": "markdown",
   "id": "41611003",
   "metadata": {},
   "source": [
    "### Display current variables\n",
    "\n",
    "Use the following command to display a list of current variables\n",
    "\n",
    "```%whos```"
   ]
  },
  {
   "cell_type": "code",
   "execution_count": null,
   "id": "5c7a5908",
   "metadata": {},
   "outputs": [],
   "source": []
  },
  {
   "cell_type": "markdown",
   "id": "2f4c85d3",
   "metadata": {
    "deletable": false,
    "editable": false,
    "scrolled": true
   },
   "source": [
    "### Errors and Exceptions\n",
    "\n",
    "Some common errors\n",
    "\n",
    "Run the code snippets below"
   ]
  },
  {
   "cell_type": "code",
   "execution_count": 616,
   "id": "516f9605",
   "metadata": {},
   "outputs": [],
   "source": [
    "odds = [1,3,5,7,9]\n",
    "odds[5]"
   ]
  },
  {
   "cell_type": "code",
   "execution_count": 605,
   "id": "d02cddcb",
   "metadata": {},
   "outputs": [],
   "source": [
    "print('Trying to learn Python)"
   ]
  },
  {
   "cell_type": "markdown",
   "id": "5d0d2f9e",
   "metadata": {
    "deletable": false,
    "editable": false,
    "scrolled": true
   },
   "source": [
    "### Useful Libraries to Explore\n",
    "\n",
    "[Seaborn](https://seaborn.pydata.org/)\n",
    "\n",
    "Seaborn is a Python data visualization library based on matplotlib. It provides a high-level interface for drawing attractive and informative statistical graphics.\n",
    "\n",
    "\n",
    "[Pandas - Python Data Analysis Library](https://pandas.pydata.org/)\n",
    "\n",
    "Pandas is a library built on top of Python specifically for data manipulation and analysis, Pandas offers data structure and operations for powerful, flexible, and easy-to-use data analysis and manipulation.\n",
    "\n",
    "[GeoPandas](https://geopandas.org/en/stable/getting_started/install.html) and [GDAL](https://gdal.org/user/gdal_python_utilities.html)\n",
    "\n",
    "These are libraries used for analyzing, manipulating, and converting geospatial data.\n",
    "\n",
    "[OpenAI](https://platform.openai.com/docs/api-reference?lang=python)\n",
    "\n",
    "The OpenAI Python library provides convenient access to the OpenAI REST API from any Python 3.7+ application. The library includes type definitions for all request params and response fields, and offers both synchronous and asynchronous clients powered by httpx.\n",
    "\n",
    "\n",
    "\n",
    "\n",
    "\n",
    "\n"
   ]
  }
 ],
 "metadata": {
  "kernelspec": {
   "display_name": "Python 3 (ipykernel)",
   "language": "python",
   "name": "python3"
  },
  "language_info": {
   "codemirror_mode": {
    "name": "ipython",
    "version": 3
   },
   "file_extension": ".py",
   "mimetype": "text/x-python",
   "name": "python",
   "nbconvert_exporter": "python",
   "pygments_lexer": "ipython3",
   "version": "3.11.5"
  }
 },
 "nbformat": 4,
 "nbformat_minor": 5
}
